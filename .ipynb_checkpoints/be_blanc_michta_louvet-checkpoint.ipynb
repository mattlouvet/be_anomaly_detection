{
 "cells": [
  {
   "cell_type": "code",
   "execution_count": 48,
   "metadata": {},
   "outputs": [],
   "source": [
    "import numpy as np\n",
    "import pandas as pd\n",
    "import matplotlib.pyplot as plt\n",
    "from sklearn.decomposition import PCA\n",
    "%matplotlib inline"
   ]
  },
  {
   "cell_type": "code",
   "execution_count": 49,
   "metadata": {},
   "outputs": [],
   "source": [
    "dataframe = pd.read_csv(\"dataset.csv\")"
   ]
  },
  {
   "cell_type": "code",
   "execution_count": 50,
   "metadata": {},
   "outputs": [
    {
     "data": {
      "text/html": [
       "<div>\n",
       "<style scoped>\n",
       "    .dataframe tbody tr th:only-of-type {\n",
       "        vertical-align: middle;\n",
       "    }\n",
       "\n",
       "    .dataframe tbody tr th {\n",
       "        vertical-align: top;\n",
       "    }\n",
       "\n",
       "    .dataframe thead th {\n",
       "        text-align: right;\n",
       "    }\n",
       "</style>\n",
       "<table border=\"1\" class=\"dataframe\">\n",
       "  <thead>\n",
       "    <tr style=\"text-align: right;\">\n",
       "      <th></th>\n",
       "      <th>day_cycle_window</th>\n",
       "      <th>p1</th>\n",
       "      <th>p2</th>\n",
       "      <th>p3</th>\n",
       "      <th>p4</th>\n",
       "      <th>p5</th>\n",
       "      <th>p6</th>\n",
       "      <th>p7</th>\n",
       "      <th>p8</th>\n",
       "      <th>p9</th>\n",
       "      <th>p10</th>\n",
       "      <th>p11</th>\n",
       "    </tr>\n",
       "  </thead>\n",
       "  <tbody>\n",
       "    <tr>\n",
       "      <th>0</th>\n",
       "      <td>1_1_1</td>\n",
       "      <td>-0.805191</td>\n",
       "      <td>-1.141993</td>\n",
       "      <td>-1.328327</td>\n",
       "      <td>-1.516693</td>\n",
       "      <td>-1.373962</td>\n",
       "      <td>-0.80827</td>\n",
       "      <td>-1.070547</td>\n",
       "      <td>-0.504352</td>\n",
       "      <td>2.807146</td>\n",
       "      <td>0.495528</td>\n",
       "      <td>-1.246737</td>\n",
       "    </tr>\n",
       "    <tr>\n",
       "      <th>1</th>\n",
       "      <td>1_1_1</td>\n",
       "      <td>-0.805191</td>\n",
       "      <td>-1.134902</td>\n",
       "      <td>-1.320393</td>\n",
       "      <td>-1.505848</td>\n",
       "      <td>-1.361560</td>\n",
       "      <td>-0.80784</td>\n",
       "      <td>-1.064212</td>\n",
       "      <td>-0.516000</td>\n",
       "      <td>2.894177</td>\n",
       "      <td>0.494467</td>\n",
       "      <td>-1.244472</td>\n",
       "    </tr>\n",
       "    <tr>\n",
       "      <th>2</th>\n",
       "      <td>1_1_1</td>\n",
       "      <td>-0.805191</td>\n",
       "      <td>-1.117304</td>\n",
       "      <td>-1.307167</td>\n",
       "      <td>-1.505848</td>\n",
       "      <td>-1.361560</td>\n",
       "      <td>-0.80784</td>\n",
       "      <td>-1.064212</td>\n",
       "      <td>-0.516000</td>\n",
       "      <td>2.981904</td>\n",
       "      <td>0.429370</td>\n",
       "      <td>-1.244472</td>\n",
       "    </tr>\n",
       "    <tr>\n",
       "      <th>3</th>\n",
       "      <td>1_1_1</td>\n",
       "      <td>-0.814231</td>\n",
       "      <td>-1.114206</td>\n",
       "      <td>-1.287593</td>\n",
       "      <td>-1.442302</td>\n",
       "      <td>-1.287565</td>\n",
       "      <td>-0.80784</td>\n",
       "      <td>-1.045557</td>\n",
       "      <td>-0.516000</td>\n",
       "      <td>3.063298</td>\n",
       "      <td>0.348056</td>\n",
       "      <td>-1.244472</td>\n",
       "    </tr>\n",
       "    <tr>\n",
       "      <th>4</th>\n",
       "      <td>1_1_1</td>\n",
       "      <td>-0.848104</td>\n",
       "      <td>-1.112276</td>\n",
       "      <td>-1.285393</td>\n",
       "      <td>-1.429076</td>\n",
       "      <td>-1.270722</td>\n",
       "      <td>-0.80784</td>\n",
       "      <td>-1.017575</td>\n",
       "      <td>-0.664906</td>\n",
       "      <td>3.049237</td>\n",
       "      <td>0.118828</td>\n",
       "      <td>-1.270237</td>\n",
       "    </tr>\n",
       "  </tbody>\n",
       "</table>\n",
       "</div>"
      ],
      "text/plain": [
       "  day_cycle_window        p1        p2        p3        p4        p5       p6  \\\n",
       "0            1_1_1 -0.805191 -1.141993 -1.328327 -1.516693 -1.373962 -0.80827   \n",
       "1            1_1_1 -0.805191 -1.134902 -1.320393 -1.505848 -1.361560 -0.80784   \n",
       "2            1_1_1 -0.805191 -1.117304 -1.307167 -1.505848 -1.361560 -0.80784   \n",
       "3            1_1_1 -0.814231 -1.114206 -1.287593 -1.442302 -1.287565 -0.80784   \n",
       "4            1_1_1 -0.848104 -1.112276 -1.285393 -1.429076 -1.270722 -0.80784   \n",
       "\n",
       "         p7        p8        p9       p10       p11  \n",
       "0 -1.070547 -0.504352  2.807146  0.495528 -1.246737  \n",
       "1 -1.064212 -0.516000  2.894177  0.494467 -1.244472  \n",
       "2 -1.064212 -0.516000  2.981904  0.429370 -1.244472  \n",
       "3 -1.045557 -0.516000  3.063298  0.348056 -1.244472  \n",
       "4 -1.017575 -0.664906  3.049237  0.118828 -1.270237  "
      ]
     },
     "execution_count": 50,
     "metadata": {},
     "output_type": "execute_result"
    }
   ],
   "source": [
    "dataframe.head()"
   ]
  },
  {
   "cell_type": "code",
   "execution_count": 51,
   "metadata": {},
   "outputs": [
    {
     "data": {
      "text/plain": [
       "count    162702.000000\n",
       "mean          0.000009\n",
       "std           0.999950\n",
       "min          -3.211980\n",
       "25%          -0.678808\n",
       "50%           0.041883\n",
       "75%           0.743973\n",
       "max           5.013899\n",
       "Name: p1, dtype: float64"
      ]
     },
     "execution_count": 51,
     "metadata": {},
     "output_type": "execute_result"
    }
   ],
   "source": [
    "dataframe['p1'].describe()"
   ]
  },
  {
   "cell_type": "code",
   "execution_count": 52,
   "metadata": {},
   "outputs": [
    {
     "data": {
      "text/plain": [
       "count    162702.000000\n",
       "mean          0.000011\n",
       "std           0.999925\n",
       "min          -3.395387\n",
       "25%          -0.482716\n",
       "50%           0.180360\n",
       "75%           0.656920\n",
       "max           6.260782\n",
       "Name: p2, dtype: float64"
      ]
     },
     "execution_count": 52,
     "metadata": {},
     "output_type": "execute_result"
    }
   ],
   "source": [
    "dataframe['p2'].describe()"
   ]
  },
  {
   "cell_type": "code",
   "execution_count": 53,
   "metadata": {},
   "outputs": [
    {
     "data": {
      "text/plain": [
       "[<matplotlib.lines.Line2D at 0x7fcb9a346668>]"
      ]
     },
     "execution_count": 53,
     "metadata": {},
     "output_type": "execute_result"
    },
    {
     "data": {
      "image/png": "[encoded data removed]",
      "text/plain": [
       "<Figure size 432x288 with 1 Axes>"
      ]
     },
     "metadata": {
      "needs_background": "light"
     },
     "output_type": "display_data"
    }
   ],
   "source": [
    "plt.plot(dataframe['p1'].values[:500], 'b')\n",
    "plt.plot(dataframe['p6'].values[:500], 'r')\n",
    "plt.plot(dataframe['p9'].values[:500], 'g')"
   ]
  },
  {
   "cell_type": "code",
   "execution_count": 67,
   "metadata": {},
   "outputs": [
    {
     "data": {
      "text/plain": [
       "<BarContainer object of 11 artists>"
      ]
     },
     "execution_count": 67,
     "metadata": {},
     "output_type": "execute_result"
    },
    {
     "data": {
      "image/png": "[encoded data removed]",
      "text/plain": [
       "<Figure size 432x288 with 1 Axes>"
      ]
     },
     "metadata": {
      "needs_background": "light"
     },
     "output_type": "display_data"
    }
   ],
   "source": [
    "df = dataframe.drop(['day_cycle_window'], axis=1)\n",
    "pca = PCA()\n",
    "pca.fit(df)\n",
    "plt.bar(np.arange(1,dataframe.shape[1],1), pca.explained_variance_ratio_)"
   ]
  },
  {
   "cell_type": "code",
   "execution_count": 44,
   "metadata": {},
   "outputs": [
    {
     "data": {
      "text/plain": [
       "[<matplotlib.lines.Line2D at 0x7fcb9a7f7eb8>]"
      ]
     },
     "execution_count": 44,
     "metadata": {},
     "output_type": "execute_result"
    },
    {
     "data": {
      "image/png": "[encoded data removed]",
      "text/plain": [
       "<Figure size 432x288 with 1 Axes>"
      ]
     },
     "metadata": {
      "needs_background": "light"
     },
     "output_type": "display_data"
    }
   ],
   "source": [
    "plt.plot(dataframe['p1'].values, dataframe['p2'].values, 'bo')"
   ]
  },
  {
   "cell_type": "code",
   "execution_count": 45,
   "metadata": {},
   "outputs": [
    {
     "data": {
      "text/plain": [
       "[<matplotlib.lines.Line2D at 0x7fcb9a54def0>]"
      ]
     },
     "execution_count": 45,
     "metadata": {},
     "output_type": "execute_result"
    },
    {
     "data": {
      "image/png": "[encoded data removed]",
      "text/plain": [
       "<Figure size 432x288 with 1 Axes>"
      ]
     },
     "metadata": {
      "needs_background": "light"
     },
     "output_type": "display_data"
    }
   ],
   "source": [
    "plt.plot(dataframe['p2'].values, dataframe['p3'].values, 'bo')"
   ]
  },
  {
   "cell_type": "code",
   "execution_count": 47,
   "metadata": {},
   "outputs": [
    {
     "data": {
      "text/plain": [
       "[<matplotlib.lines.Line2D at 0x7fcb9a792a58>]"
      ]
     },
     "execution_count": 47,
     "metadata": {},
     "output_type": "execute_result"
    },
    {
     "data": {
      "image/png": "[encoded data removed]",
      "text/plain": [
       "<Figure size 432x288 with 1 Axes>"
      ]
     },
     "metadata": {
      "needs_background": "light"
     },
     "output_type": "display_data"
    }
   ],
   "source": [
    "plt.plot(dataframe['p3'].values, dataframe['p4'].values, 'bo')"
   ]
  },
  {
   "cell_type": "code",
   "execution_count": null,
   "metadata": {},
   "outputs": [],
   "source": []
  }
 ],
 "metadata": {
  "kernelspec": {
   "display_name": "Python 3",
   "language": "python",
   "name": "python3"
  },
  "language_info": {
   "codemirror_mode": {
    "name": "ipython",
    "version": 3
   },
   "file_extension": ".py",
   "mimetype": "text/x-python",
   "name": "python",
   "nbconvert_exporter": "python",
   "pygments_lexer": "ipython3",
   "version": "3.7.3"
  }
 },
 "nbformat": 4,
 "nbformat_minor": 2
}
