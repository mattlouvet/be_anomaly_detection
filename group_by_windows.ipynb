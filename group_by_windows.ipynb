{
 "cells": [
  {
   "cell_type": "markdown",
   "metadata": {},
   "source": [
    "## Group by windows"
   ]
  },
  {
   "cell_type": "code",
   "execution_count": 46,
   "metadata": {},
   "outputs": [],
   "source": [
    "import numpy as np\n",
    "import pandas as pd\n",
    "import matplotlib.pyplot as plt\n",
    "import seaborn as sns\n",
    "import scipy.stats as stats\n",
    "import math\n",
    "from sklearn.decomposition import PCA\n",
    "from sklearn.covariance import EllipticEnvelope\n",
    "from sklearn.ensemble import IsolationForest\n",
    "from sklearn.neighbors import LocalOutlierFactor\n",
    "from sklearn.svm import OneClassSVM\n",
    "from sklearn.preprocessing import StandardScaler\n",
    "%matplotlib inline"
   ]
  },
  {
   "cell_type": "markdown",
   "metadata": {},
   "source": [
    "## Part 1 : Data observation and cleaning"
   ]
  },
  {
   "cell_type": "code",
   "execution_count": 2,
   "metadata": {},
   "outputs": [
    {
     "data": {
      "text/html": [
       "<div>\n",
       "<style scoped>\n",
       "    .dataframe tbody tr th:only-of-type {\n",
       "        vertical-align: middle;\n",
       "    }\n",
       "\n",
       "    .dataframe tbody tr th {\n",
       "        vertical-align: top;\n",
       "    }\n",
       "\n",
       "    .dataframe thead th {\n",
       "        text-align: right;\n",
       "    }\n",
       "</style>\n",
       "<table border=\"1\" class=\"dataframe\">\n",
       "  <thead>\n",
       "    <tr style=\"text-align: right;\">\n",
       "      <th></th>\n",
       "      <th>p1</th>\n",
       "      <th>p2</th>\n",
       "      <th>p3</th>\n",
       "      <th>p4</th>\n",
       "      <th>p5</th>\n",
       "      <th>p6</th>\n",
       "      <th>p7</th>\n",
       "      <th>p8</th>\n",
       "      <th>p9</th>\n",
       "      <th>p10</th>\n",
       "      <th>p11</th>\n",
       "    </tr>\n",
       "  </thead>\n",
       "  <tbody>\n",
       "    <tr>\n",
       "      <th>count</th>\n",
       "      <td>162702.000000</td>\n",
       "      <td>162702.000000</td>\n",
       "      <td>162702.000000</td>\n",
       "      <td>162702.000000</td>\n",
       "      <td>162702.000000</td>\n",
       "      <td>162702.000000</td>\n",
       "      <td>162702.000000</td>\n",
       "      <td>162702.000000</td>\n",
       "      <td>162702.000000</td>\n",
       "      <td>162702.000000</td>\n",
       "      <td>162702.000000</td>\n",
       "    </tr>\n",
       "    <tr>\n",
       "      <th>mean</th>\n",
       "      <td>0.000009</td>\n",
       "      <td>0.000011</td>\n",
       "      <td>0.000031</td>\n",
       "      <td>0.000005</td>\n",
       "      <td>0.000016</td>\n",
       "      <td>-0.000005</td>\n",
       "      <td>-0.000002</td>\n",
       "      <td>0.000003</td>\n",
       "      <td>-0.000021</td>\n",
       "      <td>0.000026</td>\n",
       "      <td>0.000030</td>\n",
       "    </tr>\n",
       "    <tr>\n",
       "      <th>std</th>\n",
       "      <td>0.999950</td>\n",
       "      <td>0.999925</td>\n",
       "      <td>0.999961</td>\n",
       "      <td>0.999925</td>\n",
       "      <td>0.999963</td>\n",
       "      <td>0.999926</td>\n",
       "      <td>0.999950</td>\n",
       "      <td>0.999949</td>\n",
       "      <td>0.997770</td>\n",
       "      <td>0.999686</td>\n",
       "      <td>0.999847</td>\n",
       "    </tr>\n",
       "    <tr>\n",
       "      <th>min</th>\n",
       "      <td>-3.211980</td>\n",
       "      <td>-3.395387</td>\n",
       "      <td>-3.325651</td>\n",
       "      <td>-3.378450</td>\n",
       "      <td>-3.281286</td>\n",
       "      <td>-4.200181</td>\n",
       "      <td>-3.898025</td>\n",
       "      <td>-3.524957</td>\n",
       "      <td>-13.704556</td>\n",
       "      <td>-12.044778</td>\n",
       "      <td>-3.183571</td>\n",
       "    </tr>\n",
       "    <tr>\n",
       "      <th>25%</th>\n",
       "      <td>-0.678808</td>\n",
       "      <td>-0.482716</td>\n",
       "      <td>-0.629123</td>\n",
       "      <td>-0.491585</td>\n",
       "      <td>-0.612334</td>\n",
       "      <td>-0.559023</td>\n",
       "      <td>-0.606135</td>\n",
       "      <td>-0.736398</td>\n",
       "      <td>-0.593096</td>\n",
       "      <td>-0.498480</td>\n",
       "      <td>-0.658530</td>\n",
       "    </tr>\n",
       "    <tr>\n",
       "      <th>50%</th>\n",
       "      <td>0.041883</td>\n",
       "      <td>0.180360</td>\n",
       "      <td>0.041442</td>\n",
       "      <td>0.147397</td>\n",
       "      <td>0.117040</td>\n",
       "      <td>0.153972</td>\n",
       "      <td>0.186038</td>\n",
       "      <td>-0.012354</td>\n",
       "      <td>-0.034882</td>\n",
       "      <td>-0.257635</td>\n",
       "      <td>-0.015437</td>\n",
       "    </tr>\n",
       "    <tr>\n",
       "      <th>75%</th>\n",
       "      <td>0.743973</td>\n",
       "      <td>0.656920</td>\n",
       "      <td>0.659246</td>\n",
       "      <td>0.636887</td>\n",
       "      <td>0.712393</td>\n",
       "      <td>0.685353</td>\n",
       "      <td>0.718237</td>\n",
       "      <td>0.802395</td>\n",
       "      <td>0.508232</td>\n",
       "      <td>0.359773</td>\n",
       "      <td>0.636740</td>\n",
       "    </tr>\n",
       "    <tr>\n",
       "      <th>max</th>\n",
       "      <td>5.013899</td>\n",
       "      <td>6.260782</td>\n",
       "      <td>8.652950</td>\n",
       "      <td>8.359670</td>\n",
       "      <td>6.424227</td>\n",
       "      <td>5.638259</td>\n",
       "      <td>3.735957</td>\n",
       "      <td>4.667058</td>\n",
       "      <td>8.203706</td>\n",
       "      <td>5.597387</td>\n",
       "      <td>9.204384</td>\n",
       "    </tr>\n",
       "  </tbody>\n",
       "</table>\n",
       "</div>"
      ],
      "text/plain": [
       "                  p1             p2             p3             p4  \\\n",
       "count  162702.000000  162702.000000  162702.000000  162702.000000   \n",
       "mean        0.000009       0.000011       0.000031       0.000005   \n",
       "std         0.999950       0.999925       0.999961       0.999925   \n",
       "min        -3.211980      -3.395387      -3.325651      -3.378450   \n",
       "25%        -0.678808      -0.482716      -0.629123      -0.491585   \n",
       "50%         0.041883       0.180360       0.041442       0.147397   \n",
       "75%         0.743973       0.656920       0.659246       0.636887   \n",
       "max         5.013899       6.260782       8.652950       8.359670   \n",
       "\n",
       "                  p5             p6             p7             p8  \\\n",
       "count  162702.000000  162702.000000  162702.000000  162702.000000   \n",
       "mean        0.000016      -0.000005      -0.000002       0.000003   \n",
       "std         0.999963       0.999926       0.999950       0.999949   \n",
       "min        -3.281286      -4.200181      -3.898025      -3.524957   \n",
       "25%        -0.612334      -0.559023      -0.606135      -0.736398   \n",
       "50%         0.117040       0.153972       0.186038      -0.012354   \n",
       "75%         0.712393       0.685353       0.718237       0.802395   \n",
       "max         6.424227       5.638259       3.735957       4.667058   \n",
       "\n",
       "                  p9            p10            p11  \n",
       "count  162702.000000  162702.000000  162702.000000  \n",
       "mean       -0.000021       0.000026       0.000030  \n",
       "std         0.997770       0.999686       0.999847  \n",
       "min       -13.704556     -12.044778      -3.183571  \n",
       "25%        -0.593096      -0.498480      -0.658530  \n",
       "50%        -0.034882      -0.257635      -0.015437  \n",
       "75%         0.508232       0.359773       0.636740  \n",
       "max         8.203706       5.597387       9.204384  "
      ]
     },
     "execution_count": 2,
     "metadata": {},
     "output_type": "execute_result"
    }
   ],
   "source": [
    "df = pd.read_csv(\"dataset.csv\")\n",
    "df.describe()"
   ]
  },
  {
   "cell_type": "code",
   "execution_count": 17,
   "metadata": {},
   "outputs": [],
   "source": [
    "df_windows_median = df.groupby('day_cycle_window').median()\n",
    "df_windows_std = df.groupby('day_cycle_window').std()"
   ]
  },
  {
   "cell_type": "code",
   "execution_count": 18,
   "metadata": {},
   "outputs": [],
   "source": [
    "col_med = []\n",
    "col_std = []\n",
    "for i in df_windows_median.columns:\n",
    "    col_med.append(i + '_med')\n",
    "    col_std.append(i + '_std')\n",
    "df_windows_median.columns = col_med\n",
    "df_windows_std.columns = col_std\n"
   ]
  },
  {
   "cell_type": "code",
   "execution_count": 19,
   "metadata": {},
   "outputs": [
    {
     "data": {
      "text/html": [
       "<div>\n",
       "<style scoped>\n",
       "    .dataframe tbody tr th:only-of-type {\n",
       "        vertical-align: middle;\n",
       "    }\n",
       "\n",
       "    .dataframe tbody tr th {\n",
       "        vertical-align: top;\n",
       "    }\n",
       "\n",
       "    .dataframe thead th {\n",
       "        text-align: right;\n",
       "    }\n",
       "</style>\n",
       "<table border=\"1\" class=\"dataframe\">\n",
       "  <thead>\n",
       "    <tr style=\"text-align: right;\">\n",
       "      <th></th>\n",
       "      <th>p1_std</th>\n",
       "      <th>p2_std</th>\n",
       "      <th>p3_std</th>\n",
       "      <th>p4_std</th>\n",
       "      <th>p5_std</th>\n",
       "      <th>p6_std</th>\n",
       "      <th>p7_std</th>\n",
       "      <th>p8_std</th>\n",
       "      <th>p9_std</th>\n",
       "      <th>p10_std</th>\n",
       "      <th>p11_std</th>\n",
       "    </tr>\n",
       "    <tr>\n",
       "      <th>day_cycle_window</th>\n",
       "      <th></th>\n",
       "      <th></th>\n",
       "      <th></th>\n",
       "      <th></th>\n",
       "      <th></th>\n",
       "      <th></th>\n",
       "      <th></th>\n",
       "      <th></th>\n",
       "      <th></th>\n",
       "      <th></th>\n",
       "      <th></th>\n",
       "    </tr>\n",
       "  </thead>\n",
       "  <tbody>\n",
       "    <tr>\n",
       "      <th>1_1_1</th>\n",
       "      <td>0.591155</td>\n",
       "      <td>0.739638</td>\n",
       "      <td>0.661250</td>\n",
       "      <td>0.631763</td>\n",
       "      <td>0.688777</td>\n",
       "      <td>0.741959</td>\n",
       "      <td>0.666670</td>\n",
       "      <td>0.771232</td>\n",
       "      <td>0.246201</td>\n",
       "      <td>0.673869</td>\n",
       "      <td>0.724468</td>\n",
       "    </tr>\n",
       "    <tr>\n",
       "      <th>1_1_10</th>\n",
       "      <td>0.245958</td>\n",
       "      <td>0.242592</td>\n",
       "      <td>0.230089</td>\n",
       "      <td>0.206792</td>\n",
       "      <td>0.159972</td>\n",
       "      <td>0.263903</td>\n",
       "      <td>0.235525</td>\n",
       "      <td>0.268986</td>\n",
       "      <td>0.000000</td>\n",
       "      <td>0.007340</td>\n",
       "      <td>0.211292</td>\n",
       "    </tr>\n",
       "    <tr>\n",
       "      <th>1_1_11</th>\n",
       "      <td>0.133627</td>\n",
       "      <td>0.132878</td>\n",
       "      <td>0.123037</td>\n",
       "      <td>0.118335</td>\n",
       "      <td>0.100332</td>\n",
       "      <td>0.148944</td>\n",
       "      <td>0.130108</td>\n",
       "      <td>0.155183</td>\n",
       "      <td>0.000000</td>\n",
       "      <td>0.007835</td>\n",
       "      <td>0.121043</td>\n",
       "    </tr>\n",
       "    <tr>\n",
       "      <th>1_1_12</th>\n",
       "      <td>0.089126</td>\n",
       "      <td>0.077160</td>\n",
       "      <td>0.074458</td>\n",
       "      <td>0.079167</td>\n",
       "      <td>0.084962</td>\n",
       "      <td>0.095682</td>\n",
       "      <td>0.085289</td>\n",
       "      <td>0.105400</td>\n",
       "      <td>0.000000</td>\n",
       "      <td>0.008146</td>\n",
       "      <td>0.068842</td>\n",
       "    </tr>\n",
       "    <tr>\n",
       "      <th>1_1_13</th>\n",
       "      <td>0.006691</td>\n",
       "      <td>0.004849</td>\n",
       "      <td>0.003302</td>\n",
       "      <td>0.007130</td>\n",
       "      <td>0.014593</td>\n",
       "      <td>0.007426</td>\n",
       "      <td>0.008084</td>\n",
       "      <td>0.010889</td>\n",
       "      <td>0.000000</td>\n",
       "      <td>0.008337</td>\n",
       "      <td>0.005184</td>\n",
       "    </tr>\n",
       "  </tbody>\n",
       "</table>\n",
       "</div>"
      ],
      "text/plain": [
       "                    p1_std    p2_std    p3_std    p4_std    p5_std    p6_std  \\\n",
       "day_cycle_window                                                               \n",
       "1_1_1             0.591155  0.739638  0.661250  0.631763  0.688777  0.741959   \n",
       "1_1_10            0.245958  0.242592  0.230089  0.206792  0.159972  0.263903   \n",
       "1_1_11            0.133627  0.132878  0.123037  0.118335  0.100332  0.148944   \n",
       "1_1_12            0.089126  0.077160  0.074458  0.079167  0.084962  0.095682   \n",
       "1_1_13            0.006691  0.004849  0.003302  0.007130  0.014593  0.007426   \n",
       "\n",
       "                    p7_std    p8_std    p9_std   p10_std   p11_std  \n",
       "day_cycle_window                                                    \n",
       "1_1_1             0.666670  0.771232  0.246201  0.673869  0.724468  \n",
       "1_1_10            0.235525  0.268986  0.000000  0.007340  0.211292  \n",
       "1_1_11            0.130108  0.155183  0.000000  0.007835  0.121043  \n",
       "1_1_12            0.085289  0.105400  0.000000  0.008146  0.068842  \n",
       "1_1_13            0.008084  0.010889  0.000000  0.008337  0.005184  "
      ]
     },
     "execution_count": 19,
     "metadata": {},
     "output_type": "execute_result"
    }
   ],
   "source": [
    "df_windows_std.head()"
   ]
  },
  {
   "cell_type": "code",
   "execution_count": 29,
   "metadata": {},
   "outputs": [],
   "source": [
    "day_cycle_window = df['day_cycle_window']\n",
    "df_tot = pd.concat([df_windows_median, df_windows_std], axis=1, sort=False)"
   ]
  },
  {
   "cell_type": "code",
   "execution_count": 30,
   "metadata": {},
   "outputs": [
    {
     "data": {
      "text/html": [
       "<div>\n",
       "<style scoped>\n",
       "    .dataframe tbody tr th:only-of-type {\n",
       "        vertical-align: middle;\n",
       "    }\n",
       "\n",
       "    .dataframe tbody tr th {\n",
       "        vertical-align: top;\n",
       "    }\n",
       "\n",
       "    .dataframe thead th {\n",
       "        text-align: right;\n",
       "    }\n",
       "</style>\n",
       "<table border=\"1\" class=\"dataframe\">\n",
       "  <thead>\n",
       "    <tr style=\"text-align: right;\">\n",
       "      <th></th>\n",
       "      <th>p1_med</th>\n",
       "      <th>p2_med</th>\n",
       "      <th>p3_med</th>\n",
       "      <th>p4_med</th>\n",
       "      <th>p5_med</th>\n",
       "      <th>p6_med</th>\n",
       "      <th>p7_med</th>\n",
       "      <th>p8_med</th>\n",
       "      <th>p9_med</th>\n",
       "      <th>p10_med</th>\n",
       "      <th>...</th>\n",
       "      <th>p2_std</th>\n",
       "      <th>p3_std</th>\n",
       "      <th>p4_std</th>\n",
       "      <th>p5_std</th>\n",
       "      <th>p6_std</th>\n",
       "      <th>p7_std</th>\n",
       "      <th>p8_std</th>\n",
       "      <th>p9_std</th>\n",
       "      <th>p10_std</th>\n",
       "      <th>p11_std</th>\n",
       "    </tr>\n",
       "    <tr>\n",
       "      <th>day_cycle_window</th>\n",
       "      <th></th>\n",
       "      <th></th>\n",
       "      <th></th>\n",
       "      <th></th>\n",
       "      <th></th>\n",
       "      <th></th>\n",
       "      <th></th>\n",
       "      <th></th>\n",
       "      <th></th>\n",
       "      <th></th>\n",
       "      <th></th>\n",
       "      <th></th>\n",
       "      <th></th>\n",
       "      <th></th>\n",
       "      <th></th>\n",
       "      <th></th>\n",
       "      <th></th>\n",
       "      <th></th>\n",
       "      <th></th>\n",
       "      <th></th>\n",
       "      <th></th>\n",
       "    </tr>\n",
       "  </thead>\n",
       "  <tbody>\n",
       "    <tr>\n",
       "      <th>1_1_1</th>\n",
       "      <td>-1.849016</td>\n",
       "      <td>-2.565392</td>\n",
       "      <td>-2.688768</td>\n",
       "      <td>-2.672632</td>\n",
       "      <td>-2.454134</td>\n",
       "      <td>-1.828161</td>\n",
       "      <td>-2.523478</td>\n",
       "      <td>-0.806149</td>\n",
       "      <td>2.697076</td>\n",
       "      <td>-1.748105</td>\n",
       "      <td>...</td>\n",
       "      <td>0.739638</td>\n",
       "      <td>0.661250</td>\n",
       "      <td>0.631763</td>\n",
       "      <td>0.688777</td>\n",
       "      <td>0.741959</td>\n",
       "      <td>0.666670</td>\n",
       "      <td>0.771232</td>\n",
       "      <td>0.246201</td>\n",
       "      <td>0.673869</td>\n",
       "      <td>0.724468</td>\n",
       "    </tr>\n",
       "    <tr>\n",
       "      <th>1_1_10</th>\n",
       "      <td>1.118294</td>\n",
       "      <td>1.037859</td>\n",
       "      <td>0.993861</td>\n",
       "      <td>1.048020</td>\n",
       "      <td>1.110727</td>\n",
       "      <td>1.158973</td>\n",
       "      <td>1.136662</td>\n",
       "      <td>1.223982</td>\n",
       "      <td>-0.429810</td>\n",
       "      <td>-0.088966</td>\n",
       "      <td>...</td>\n",
       "      <td>0.242592</td>\n",
       "      <td>0.230089</td>\n",
       "      <td>0.206792</td>\n",
       "      <td>0.159972</td>\n",
       "      <td>0.263903</td>\n",
       "      <td>0.235525</td>\n",
       "      <td>0.268986</td>\n",
       "      <td>0.000000</td>\n",
       "      <td>0.007340</td>\n",
       "      <td>0.211292</td>\n",
       "    </tr>\n",
       "    <tr>\n",
       "      <th>1_1_11</th>\n",
       "      <td>0.800962</td>\n",
       "      <td>0.751052</td>\n",
       "      <td>0.732940</td>\n",
       "      <td>0.791591</td>\n",
       "      <td>0.801123</td>\n",
       "      <td>0.790778</td>\n",
       "      <td>0.804256</td>\n",
       "      <td>0.849297</td>\n",
       "      <td>-0.429810</td>\n",
       "      <td>-0.092606</td>\n",
       "      <td>...</td>\n",
       "      <td>0.132878</td>\n",
       "      <td>0.123037</td>\n",
       "      <td>0.118335</td>\n",
       "      <td>0.100332</td>\n",
       "      <td>0.148944</td>\n",
       "      <td>0.130108</td>\n",
       "      <td>0.155183</td>\n",
       "      <td>0.000000</td>\n",
       "      <td>0.007835</td>\n",
       "      <td>0.121043</td>\n",
       "    </tr>\n",
       "    <tr>\n",
       "      <th>1_1_12</th>\n",
       "      <td>0.290764</td>\n",
       "      <td>0.280503</td>\n",
       "      <td>0.281363</td>\n",
       "      <td>0.334924</td>\n",
       "      <td>0.377143</td>\n",
       "      <td>0.242257</td>\n",
       "      <td>0.311893</td>\n",
       "      <td>0.253519</td>\n",
       "      <td>-0.429810</td>\n",
       "      <td>-0.084409</td>\n",
       "      <td>...</td>\n",
       "      <td>0.077160</td>\n",
       "      <td>0.074458</td>\n",
       "      <td>0.079167</td>\n",
       "      <td>0.084962</td>\n",
       "      <td>0.095682</td>\n",
       "      <td>0.085289</td>\n",
       "      <td>0.105400</td>\n",
       "      <td>0.000000</td>\n",
       "      <td>0.008146</td>\n",
       "      <td>0.068842</td>\n",
       "    </tr>\n",
       "    <tr>\n",
       "      <th>1_1_13</th>\n",
       "      <td>0.137776</td>\n",
       "      <td>0.150402</td>\n",
       "      <td>0.160487</td>\n",
       "      <td>0.198811</td>\n",
       "      <td>0.222704</td>\n",
       "      <td>0.083085</td>\n",
       "      <td>0.168788</td>\n",
       "      <td>0.070739</td>\n",
       "      <td>-0.429810</td>\n",
       "      <td>-0.092606</td>\n",
       "      <td>...</td>\n",
       "      <td>0.004849</td>\n",
       "      <td>0.003302</td>\n",
       "      <td>0.007130</td>\n",
       "      <td>0.014593</td>\n",
       "      <td>0.007426</td>\n",
       "      <td>0.008084</td>\n",
       "      <td>0.010889</td>\n",
       "      <td>0.000000</td>\n",
       "      <td>0.008337</td>\n",
       "      <td>0.005184</td>\n",
       "    </tr>\n",
       "  </tbody>\n",
       "</table>\n",
       "<p>5 rows × 22 columns</p>\n",
       "</div>"
      ],
      "text/plain": [
       "                    p1_med    p2_med    p3_med    p4_med    p5_med    p6_med  \\\n",
       "day_cycle_window                                                               \n",
       "1_1_1            -1.849016 -2.565392 -2.688768 -2.672632 -2.454134 -1.828161   \n",
       "1_1_10            1.118294  1.037859  0.993861  1.048020  1.110727  1.158973   \n",
       "1_1_11            0.800962  0.751052  0.732940  0.791591  0.801123  0.790778   \n",
       "1_1_12            0.290764  0.280503  0.281363  0.334924  0.377143  0.242257   \n",
       "1_1_13            0.137776  0.150402  0.160487  0.198811  0.222704  0.083085   \n",
       "\n",
       "                    p7_med    p8_med    p9_med   p10_med  ...    p2_std  \\\n",
       "day_cycle_window                                          ...             \n",
       "1_1_1            -2.523478 -0.806149  2.697076 -1.748105  ...  0.739638   \n",
       "1_1_10            1.136662  1.223982 -0.429810 -0.088966  ...  0.242592   \n",
       "1_1_11            0.804256  0.849297 -0.429810 -0.092606  ...  0.132878   \n",
       "1_1_12            0.311893  0.253519 -0.429810 -0.084409  ...  0.077160   \n",
       "1_1_13            0.168788  0.070739 -0.429810 -0.092606  ...  0.004849   \n",
       "\n",
       "                    p3_std    p4_std    p5_std    p6_std    p7_std    p8_std  \\\n",
       "day_cycle_window                                                               \n",
       "1_1_1             0.661250  0.631763  0.688777  0.741959  0.666670  0.771232   \n",
       "1_1_10            0.230089  0.206792  0.159972  0.263903  0.235525  0.268986   \n",
       "1_1_11            0.123037  0.118335  0.100332  0.148944  0.130108  0.155183   \n",
       "1_1_12            0.074458  0.079167  0.084962  0.095682  0.085289  0.105400   \n",
       "1_1_13            0.003302  0.007130  0.014593  0.007426  0.008084  0.010889   \n",
       "\n",
       "                    p9_std   p10_std   p11_std  \n",
       "day_cycle_window                                \n",
       "1_1_1             0.246201  0.673869  0.724468  \n",
       "1_1_10            0.000000  0.007340  0.211292  \n",
       "1_1_11            0.000000  0.007835  0.121043  \n",
       "1_1_12            0.000000  0.008146  0.068842  \n",
       "1_1_13            0.000000  0.008337  0.005184  \n",
       "\n",
       "[5 rows x 22 columns]"
      ]
     },
     "execution_count": 30,
     "metadata": {},
     "output_type": "execute_result"
    }
   ],
   "source": [
    "df_tot.head()"
   ]
  },
  {
   "cell_type": "markdown",
   "metadata": {},
   "source": [
    "## Part 2: Classification\n",
    "\n",
    "Nous utiliserons comme classifiers: \n",
    "- Elliptic Enveloppe, qui nous permettra d'éloigner les valeurs s'éloignant d'une répartition gaussienne des données\n",
    "- Isolation Forest, pour éviter le swamping et le masking\n",
    "- LOF, qui nous permettra aussi de trouver de trouver les points proches de clusters denses (locality aspect)"
   ]
  },
  {
   "cell_type": "code",
   "execution_count": 13,
   "metadata": {},
   "outputs": [],
   "source": [
    "def plotAnomalyScore2D_bis(df, clf_name, clf, f1,f2):\n",
    "    \"\"\"\n",
    "        Same as plotAnomalyScore2D, but with a classifier trained on the whole dataset\n",
    "        - df: Pandas DataFrame containing all the points to plot (for features X1 and X2)\n",
    "        - clf_name: String value - name of the outlier detection model\n",
    "        - clf: Scikit Learn model instance - the trained outlier detection model\n",
    "    \"\"\"\n",
    "    if clf_name == 'LOF':\n",
    "        score = clf.negative_outlier_factor_\n",
    "    else:\n",
    "        score = clf.decision_function(df)\n",
    "    \n",
    "    plt.figure()\n",
    "    sc = plt.scatter(x=df[f1],y=df[f2], c=-score, cmap='Reds')\n",
    "    plt.colorbar(sc, label='anomaly score')\n",
    "    plt.xlabel(f1)\n",
    "    plt.ylabel(f2)\n",
    "    plt.title(clf_name)"
   ]
  },
  {
   "cell_type": "code",
   "execution_count": 31,
   "metadata": {},
   "outputs": [
    {
     "data": {
      "text/plain": [
       "EllipticEnvelope(assume_centered=False, contamination=0.1, random_state=0,\n",
       "         store_precision=True, support_fraction=None)"
      ]
     },
     "execution_count": 31,
     "metadata": {},
     "output_type": "execute_result"
    }
   ],
   "source": [
    "isf = IsolationForest(behaviour='new', n_estimators=100, contamination=0.15)\n",
    "isf.fit(df_tot)\n",
    "\n",
    "lof = LocalOutlierFactor(n_neighbors=5, contamination=0.15, novelty = False)\n",
    "lof.fit(df_tot)\n",
    "\n",
    "cov = EllipticEnvelope(random_state=0)\n",
    "cov.fit(df_tot)"
   ]
  },
  {
   "cell_type": "code",
   "execution_count": 34,
   "metadata": {},
   "outputs": [
    {
     "data": {
      "image/png": "[encoded data removed]",
      "text/plain": [
       "<Figure size 432x288 with 2 Axes>"
      ]
     },
     "metadata": {
      "needs_background": "light"
     },
     "output_type": "display_data"
    },
    {
     "data": {
      "image/png": "[encoded data removed]",
      "text/plain": [
       "<Figure size 432x288 with 2 Axes>"
      ]
     },
     "metadata": {
      "needs_background": "light"
     },
     "output_type": "display_data"
    },
    {
     "data": {
      "image/png": "[encoded data removed]",
      "text/plain": [
       "<Figure size 432x288 with 2 Axes>"
      ]
     },
     "metadata": {
      "needs_background": "light"
     },
     "output_type": "display_data"
    }
   ],
   "source": [
    "plotAnomalyScore2D_bis(df_tot, 'Elliptic Enveloppe', cov, 'p1_med','p9_med')\n",
    "plotAnomalyScore2D_bis(df_tot, 'Isolation Forest', isf, 'p1_med','p9_med')\n",
    "plotAnomalyScore2D_bis(df_tot, 'LOF', lof, 'p1_med','p9_med')"
   ]
  },
  {
   "cell_type": "code",
   "execution_count": 36,
   "metadata": {},
   "outputs": [],
   "source": [
    "#anomaly_lof = lof.predict(df_tot)\n",
    "#anomaly_cov = cov.predict(df_tot)\n",
    "#anomaly_isf = isf.predict(df_tot)\n",
    "#anomaly = (anomaly_cov+anomaly_isf == -1).astype(int) # +anomaly_lof"
   ]
  },
  {
   "cell_type": "code",
   "execution_count": 42,
   "metadata": {},
   "outputs": [],
   "source": [
    "#anomaly.sum()"
   ]
  },
  {
   "cell_type": "code",
   "execution_count": 43,
   "metadata": {},
   "outputs": [],
   "source": [
    "#df2 = df_tot.copy()\n",
    "#df2['anomaly']=anomaly\n",
    "#outliers_per_column = df2['anomaly'].sort_values(ascending = False)\n",
    "#outliers_per_column[:8]"
   ]
  },
  {
   "cell_type": "code",
   "execution_count": 44,
   "metadata": {},
   "outputs": [],
   "source": [
    "#plt.plot(outliers_per_column[:800])"
   ]
  },
  {
   "cell_type": "code",
   "execution_count": 49,
   "metadata": {},
   "outputs": [],
   "source": [
    "lof_score = lof.negative_outlier_factor_\n",
    "isf_score = isf.decision_function(df_tot)\n",
    "cov_score = cov.decision_function(df_tot)"
   ]
  },
  {
   "cell_type": "code",
   "execution_count": 53,
   "metadata": {},
   "outputs": [],
   "source": [
    "scaler = StandardScaler()\n",
    "scaler.fit(lof_score.reshape(-1, 1))\n",
    "lof_score_n = scaler.transform(lof_score.reshape(-1, 1))\n",
    "scaler = StandardScaler()\n",
    "scaler.fit(isf_score.reshape(-1, 1))\n",
    "isf_score_n = scaler.transform(isf_score.reshape(-1, 1))\n",
    "scaler = StandardScaler()\n",
    "scaler.fit(cov_score.reshape(-1, 1))\n",
    "cov_score_n = scaler.transform(cov_score.reshape(-1, 1))"
   ]
  },
  {
   "cell_type": "code",
   "execution_count": 57,
   "metadata": {},
   "outputs": [
    {
     "data": {
      "text/plain": [
       "array([[-0.31097205,  0.14099179,  0.1412819 , ...,  0.14113569,\n",
       "        -0.13761063,  0.14121479]])"
      ]
     },
     "execution_count": 57,
     "metadata": {},
     "output_type": "execute_result"
    }
   ],
   "source": [
    "cov_score_n.reshape(1, -1)"
   ]
  },
  {
   "cell_type": "code",
   "execution_count": 58,
   "metadata": {},
   "outputs": [],
   "source": [
    "anomaly_score = cov_score_n.reshape(1, -1)[0] + isf_score_n.reshape(1, -1)[0] + lof_score_n.reshape(1, -1)[0] "
   ]
  },
  {
   "cell_type": "code",
   "execution_count": 68,
   "metadata": {},
   "outputs": [
    {
     "data": {
      "text/plain": [
       "1637"
      ]
     },
     "execution_count": 68,
     "metadata": {},
     "output_type": "execute_result"
    }
   ],
   "source": [
    "len(anomaly_score)"
   ]
  },
  {
   "cell_type": "code",
   "execution_count": 63,
   "metadata": {},
   "outputs": [],
   "source": [
    "df_tot['anomaly_score'] = anomaly_score"
   ]
  },
  {
   "cell_type": "code",
   "execution_count": 66,
   "metadata": {},
   "outputs": [
    {
     "data": {
      "text/plain": [
       "day_cycle_window\n",
       "1_1_21     1.621954\n",
       "4_2_82     1.600420\n",
       "3_3_9      1.569626\n",
       "3_3_72     1.556724\n",
       "4_2_83     1.554441\n",
       "1_1_55     1.550526\n",
       "3_3_179    1.549094\n",
       "1_1_57     1.544247\n",
       "Name: anomaly_score, dtype: float64"
      ]
     },
     "execution_count": 66,
     "metadata": {},
     "output_type": "execute_result"
    }
   ],
   "source": [
    "outliers_per_column = df_tot['anomaly_score'].sort_values(ascending = False)\n",
    "outliers_per_column[:8]"
   ]
  },
  {
   "cell_type": "code",
   "execution_count": 70,
   "metadata": {},
   "outputs": [
    {
     "data": {
      "text/plain": [
       "[<matplotlib.lines.Line2D at 0x1a1ae311d0>]"
      ]
     },
     "execution_count": 70,
     "metadata": {},
     "output_type": "execute_result"
    },
    {
     "data": {
      "image/png": "[encoded data removed]",
      "text/plain": [
       "<Figure size 432x288 with 1 Axes>"
      ]
     },
     "metadata": {
      "needs_background": "light"
     },
     "output_type": "display_data"
    }
   ],
   "source": [
    "plt.plot(outliers_per_column)"
   ]
  },
  {
   "cell_type": "code",
   "execution_count": null,
   "metadata": {},
   "outputs": [],
   "source": []
  }
 ],
 "metadata": {
  "kernelspec": {
   "display_name": "Python 3",
   "language": "python",
   "name": "python3"
  },
  "language_info": {
   "codemirror_mode": {
    "name": "ipython",
    "version": 3
   },
   "file_extension": ".py",
   "mimetype": "text/x-python",
   "name": "python",
   "nbconvert_exporter": "python",
   "pygments_lexer": "ipython3",
   "version": "3.7.3"
  }
 },
 "nbformat": 4,
 "nbformat_minor": 2
}
